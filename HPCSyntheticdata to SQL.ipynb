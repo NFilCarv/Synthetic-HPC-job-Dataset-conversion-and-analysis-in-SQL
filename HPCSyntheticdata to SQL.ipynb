{
 "cells": [
  {
   "cell_type": "markdown",
   "id": "2bdf59f8",
   "metadata": {},
   "source": [
    "## Content.\n",
    "\n",
    "This notebook contains the coversion process of the dataset from a parquet file to a SQL database. Additionally it shows a way to use SQL commands in combination with python jupyter notebook."
   ]
  },
  {
   "cell_type": "code",
   "execution_count": 1,
   "id": "14a7a4b2",
   "metadata": {},
   "outputs": [],
   "source": [
    "import pandas as pd\n",
    "import sqlite3\n",
    "\n",
    "# Load the Parquet data\n",
    "df = pd.read_parquet('HPCsyntheticdata.parquet', engine='pyarrow')\n",
    "\n",
    "# Save it as CSV for easier import into SQL\n",
    "df.to_csv('HPCsyntheticdata.csv', index=False)\n",
    "\n",
    "# Connect to SQLite\n",
    "conn = sqlite3.connect('hpc_data_analysis.db')\n",
    "cursor = conn.cursor()\n",
    "\n",
    "# Load CSV data into SQL\n",
    "df.to_sql('hpc_data', conn, if_exists='replace', index=False)\n",
    "\n",
    "# Commit and close the connection\n",
    "conn.commit()\n",
    "conn.close()\n"
   ]
  },
  {
   "cell_type": "code",
   "execution_count": 8,
   "id": "76e37c8e",
   "metadata": {},
   "outputs": [
    {
     "name": "stdout",
     "output_type": "stream",
     "text": [
      "Collecting prettytable==2.1.0\n",
      "  Downloading prettytable-2.1.0-py3-none-any.whl.metadata (20 kB)\n",
      "Requirement already satisfied: wcwidth in c:\\users\\nuno\\appdata\\local\\programs\\python\\python310\\lib\\site-packages (from prettytable==2.1.0) (0.2.5)\n",
      "Downloading prettytable-2.1.0-py3-none-any.whl (22 kB)\n",
      "Installing collected packages: prettytable\n",
      "  Attempting uninstall: prettytable\n",
      "    Found existing installation: prettytable 3.12.0\n",
      "    Uninstalling prettytable-3.12.0:\n",
      "      Successfully uninstalled prettytable-3.12.0\n",
      "Successfully installed prettytable-2.1.0\n",
      "Note: you may need to restart the kernel to use updated packages.\n"
     ]
    },
    {
     "name": "stderr",
     "output_type": "stream",
     "text": [
      "\n",
      "[notice] A new release of pip is available: 23.3.1 -> 24.3.1\n",
      "[notice] To update, run: python.exe -m pip install --upgrade pip\n"
     ]
    }
   ],
   "source": [
    "pip install prettytable==2.1.0\n"
   ]
  },
  {
   "cell_type": "code",
   "execution_count": 1,
   "id": "db3478f6",
   "metadata": {},
   "outputs": [],
   "source": [
    "# Load the SQL extension\n",
    "%load_ext sql\n",
    "\n",
    "# Set a compatible style for PrettyTable (default style)\n",
    "%config SqlMagic.style = 'DEFAULT'  # Or 'PLAIN_COLUMNS'\n",
    "\n",
    "# Connect to the SQLite database and assign an alias\n",
    "%sql sqlite:///hpc_data_analysis.db\n"
   ]
  },
  {
   "cell_type": "code",
   "execution_count": 2,
   "id": "b61125f3",
   "metadata": {},
   "outputs": [
    {
     "name": "stdout",
     "output_type": "stream",
     "text": [
      " * sqlite:///hpc_data_analysis.db\n",
      "Done.\n"
     ]
    },
    {
     "data": {
      "text/html": [
       "<table>\n",
       "    <thead>\n",
       "        <tr>\n",
       "            <th>name</th>\n",
       "        </tr>\n",
       "    </thead>\n",
       "    <tbody>\n",
       "        <tr>\n",
       "            <td>hpc_data</td>\n",
       "        </tr>\n",
       "    </tbody>\n",
       "</table>"
      ],
      "text/plain": [
       "[('hpc_data',)]"
      ]
     },
     "execution_count": 2,
     "metadata": {},
     "output_type": "execute_result"
    }
   ],
   "source": [
    "%%sql\n",
    "SELECT name FROM sqlite_master WHERE type='table';\n"
   ]
  },
  {
   "cell_type": "code",
   "execution_count": 3,
   "id": "e2edc33b",
   "metadata": {},
   "outputs": [
    {
     "name": "stdout",
     "output_type": "stream",
     "text": [
      " * sqlite:///hpc_data_analysis.db\n",
      "Done.\n"
     ]
    },
    {
     "data": {
      "text/html": [
       "<table>\n",
       "    <thead>\n",
       "        <tr>\n",
       "            <th>inst</th>\n",
       "            <th>bi</th>\n",
       "            <th>mem_req</th>\n",
       "            <th>num_gpus_req</th>\n",
       "            <th>num_cores_req</th>\n",
       "            <th>num_tasks</th>\n",
       "            <th>qos</th>\n",
       "            <th>priority</th>\n",
       "            <th>eligible_time_epoch</th>\n",
       "            <th>total_power</th>\n",
       "            <th>mean_power</th>\n",
       "            <th>run_time</th>\n",
       "            <th>label</th>\n",
       "        </tr>\n",
       "    </thead>\n",
       "    <tbody>\n",
       "        <tr>\n",
       "            <td>83106.0</td>\n",
       "            <td>13109.0</td>\n",
       "            <td>240.0</td>\n",
       "            <td>0</td>\n",
       "            <td>4</td>\n",
       "            <td>1.0</td>\n",
       "            <td>1</td>\n",
       "            <td>87034</td>\n",
       "            <td>1590102365</td>\n",
       "            <td>560</td>\n",
       "            <td>560</td>\n",
       "            <td>18.0</td>\n",
       "            <td>0.0</td>\n",
       "        </tr>\n",
       "        <tr>\n",
       "            <td>258720.0</td>\n",
       "            <td>528.0</td>\n",
       "            <td>240.0</td>\n",
       "            <td>0</td>\n",
       "            <td>4</td>\n",
       "            <td>1.0</td>\n",
       "            <td>1</td>\n",
       "            <td>85884</td>\n",
       "            <td>1590102370</td>\n",
       "            <td>560</td>\n",
       "            <td>560</td>\n",
       "            <td>19.0</td>\n",
       "            <td>0.0</td>\n",
       "        </tr>\n",
       "        <tr>\n",
       "            <td>5814.0</td>\n",
       "            <td>774.0</td>\n",
       "            <td>240.0</td>\n",
       "            <td>0</td>\n",
       "            <td>4</td>\n",
       "            <td>1.0</td>\n",
       "            <td>1</td>\n",
       "            <td>115982</td>\n",
       "            <td>1590102339</td>\n",
       "            <td>680</td>\n",
       "            <td>680</td>\n",
       "            <td>20.0</td>\n",
       "            <td>0.0</td>\n",
       "        </tr>\n",
       "        <tr>\n",
       "            <td>475989.0</td>\n",
       "            <td>555.0</td>\n",
       "            <td>240.0</td>\n",
       "            <td>0</td>\n",
       "            <td>4</td>\n",
       "            <td>1.0</td>\n",
       "            <td>1</td>\n",
       "            <td>86934</td>\n",
       "            <td>1590102366</td>\n",
       "            <td>560</td>\n",
       "            <td>560</td>\n",
       "            <td>18.0</td>\n",
       "            <td>0.0</td>\n",
       "        </tr>\n",
       "        <tr>\n",
       "            <td>2348.0</td>\n",
       "            <td>90439.0</td>\n",
       "            <td>237.0</td>\n",
       "            <td>4</td>\n",
       "            <td>128</td>\n",
       "            <td>4.0</td>\n",
       "            <td>1</td>\n",
       "            <td>257524</td>\n",
       "            <td>1590142519</td>\n",
       "            <td>630</td>\n",
       "            <td>630</td>\n",
       "            <td>4.0</td>\n",
       "            <td>0.0</td>\n",
       "        </tr>\n",
       "    </tbody>\n",
       "</table>"
      ],
      "text/plain": [
       "[(83106.0, 13109.0, 240.0, 0, 4, 1.0, '1', 87034, 1590102365, 560, 560, 18.0, 0.0),\n",
       " (258720.0, 528.0, 240.0, 0, 4, 1.0, '1', 85884, 1590102370, 560, 560, 19.0, 0.0),\n",
       " (5814.0, 774.0, 240.0, 0, 4, 1.0, '1', 115982, 1590102339, 680, 680, 20.0, 0.0),\n",
       " (475989.0, 555.0, 240.0, 0, 4, 1.0, '1', 86934, 1590102366, 560, 560, 18.0, 0.0),\n",
       " (2348.0, 90439.0, 237.0, 4, 128, 4.0, '1', 257524, 1590142519, 630, 630, 4.0, 0.0)]"
      ]
     },
     "execution_count": 3,
     "metadata": {},
     "output_type": "execute_result"
    }
   ],
   "source": [
    "%%sql\n",
    "SELECT * FROM hpc_data LIMIT 5;\n"
   ]
  },
  {
   "cell_type": "code",
   "execution_count": 4,
   "id": "5e0ff065",
   "metadata": {},
   "outputs": [
    {
     "name": "stdout",
     "output_type": "stream",
     "text": [
      " * sqlite:///hpc_data_analysis.db\n",
      "Done.\n"
     ]
    },
    {
     "data": {
      "text/html": [
       "<table>\n",
       "    <thead>\n",
       "        <tr>\n",
       "            <th>cid</th>\n",
       "            <th>name</th>\n",
       "            <th>type</th>\n",
       "            <th>notnull</th>\n",
       "            <th>dflt_value</th>\n",
       "            <th>pk</th>\n",
       "        </tr>\n",
       "    </thead>\n",
       "    <tbody>\n",
       "        <tr>\n",
       "            <td>0</td>\n",
       "            <td>inst</td>\n",
       "            <td>REAL</td>\n",
       "            <td>0</td>\n",
       "            <td>None</td>\n",
       "            <td>0</td>\n",
       "        </tr>\n",
       "        <tr>\n",
       "            <td>1</td>\n",
       "            <td>bi</td>\n",
       "            <td>REAL</td>\n",
       "            <td>0</td>\n",
       "            <td>None</td>\n",
       "            <td>0</td>\n",
       "        </tr>\n",
       "        <tr>\n",
       "            <td>2</td>\n",
       "            <td>mem_req</td>\n",
       "            <td>REAL</td>\n",
       "            <td>0</td>\n",
       "            <td>None</td>\n",
       "            <td>0</td>\n",
       "        </tr>\n",
       "        <tr>\n",
       "            <td>3</td>\n",
       "            <td>num_gpus_req</td>\n",
       "            <td>INTEGER</td>\n",
       "            <td>0</td>\n",
       "            <td>None</td>\n",
       "            <td>0</td>\n",
       "        </tr>\n",
       "        <tr>\n",
       "            <td>4</td>\n",
       "            <td>num_cores_req</td>\n",
       "            <td>INTEGER</td>\n",
       "            <td>0</td>\n",
       "            <td>None</td>\n",
       "            <td>0</td>\n",
       "        </tr>\n",
       "        <tr>\n",
       "            <td>5</td>\n",
       "            <td>num_tasks</td>\n",
       "            <td>REAL</td>\n",
       "            <td>0</td>\n",
       "            <td>None</td>\n",
       "            <td>0</td>\n",
       "        </tr>\n",
       "        <tr>\n",
       "            <td>6</td>\n",
       "            <td>qos</td>\n",
       "            <td>TEXT</td>\n",
       "            <td>0</td>\n",
       "            <td>None</td>\n",
       "            <td>0</td>\n",
       "        </tr>\n",
       "        <tr>\n",
       "            <td>7</td>\n",
       "            <td>priority</td>\n",
       "            <td>INTEGER</td>\n",
       "            <td>0</td>\n",
       "            <td>None</td>\n",
       "            <td>0</td>\n",
       "        </tr>\n",
       "        <tr>\n",
       "            <td>8</td>\n",
       "            <td>eligible_time_epoch</td>\n",
       "            <td>INTEGER</td>\n",
       "            <td>0</td>\n",
       "            <td>None</td>\n",
       "            <td>0</td>\n",
       "        </tr>\n",
       "        <tr>\n",
       "            <td>9</td>\n",
       "            <td>total_power</td>\n",
       "            <td>INTEGER</td>\n",
       "            <td>0</td>\n",
       "            <td>None</td>\n",
       "            <td>0</td>\n",
       "        </tr>\n",
       "        <tr>\n",
       "            <td>10</td>\n",
       "            <td>mean_power</td>\n",
       "            <td>INTEGER</td>\n",
       "            <td>0</td>\n",
       "            <td>None</td>\n",
       "            <td>0</td>\n",
       "        </tr>\n",
       "        <tr>\n",
       "            <td>11</td>\n",
       "            <td>run_time</td>\n",
       "            <td>REAL</td>\n",
       "            <td>0</td>\n",
       "            <td>None</td>\n",
       "            <td>0</td>\n",
       "        </tr>\n",
       "        <tr>\n",
       "            <td>12</td>\n",
       "            <td>label</td>\n",
       "            <td>REAL</td>\n",
       "            <td>0</td>\n",
       "            <td>None</td>\n",
       "            <td>0</td>\n",
       "        </tr>\n",
       "    </tbody>\n",
       "</table>"
      ],
      "text/plain": [
       "[(0, 'inst', 'REAL', 0, None, 0),\n",
       " (1, 'bi', 'REAL', 0, None, 0),\n",
       " (2, 'mem_req', 'REAL', 0, None, 0),\n",
       " (3, 'num_gpus_req', 'INTEGER', 0, None, 0),\n",
       " (4, 'num_cores_req', 'INTEGER', 0, None, 0),\n",
       " (5, 'num_tasks', 'REAL', 0, None, 0),\n",
       " (6, 'qos', 'TEXT', 0, None, 0),\n",
       " (7, 'priority', 'INTEGER', 0, None, 0),\n",
       " (8, 'eligible_time_epoch', 'INTEGER', 0, None, 0),\n",
       " (9, 'total_power', 'INTEGER', 0, None, 0),\n",
       " (10, 'mean_power', 'INTEGER', 0, None, 0),\n",
       " (11, 'run_time', 'REAL', 0, None, 0),\n",
       " (12, 'label', 'REAL', 0, None, 0)]"
      ]
     },
     "execution_count": 4,
     "metadata": {},
     "output_type": "execute_result"
    }
   ],
   "source": [
    "%%sql\n",
    "PRAGMA table_info(hpc_data);\n"
   ]
  }
 ],
 "metadata": {
  "kernelspec": {
   "display_name": "Python 3 (ipykernel)",
   "language": "python",
   "name": "python3"
  },
  "language_info": {
   "codemirror_mode": {
    "name": "ipython",
    "version": 3
   },
   "file_extension": ".py",
   "mimetype": "text/x-python",
   "name": "python",
   "nbconvert_exporter": "python",
   "pygments_lexer": "ipython3",
   "version": "3.10.7"
  }
 },
 "nbformat": 4,
 "nbformat_minor": 5
}
